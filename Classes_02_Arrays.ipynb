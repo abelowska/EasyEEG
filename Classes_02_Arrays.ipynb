{
  "cells": [
    {
      "cell_type": "markdown",
      "metadata": {
        "id": "view-in-github",
        "colab_type": "text"
      },
      "source": [
        "<a href=\"https://colab.research.google.com/github/abelowska/EasyEEG/blob/master/Classes_02_Arrays.ipynb\" target=\"_parent\"><img src=\"https://colab.research.google.com/assets/colab-badge.svg\" alt=\"Open In Colab\"/></a>"
      ]
    },
    {
      "cell_type": "markdown",
      "metadata": {
        "id": "yXi0l2XpclEA"
      },
      "source": [
        "# Contents\n",
        "\n",
        "\n",
        "\n",
        "1.   [**Review**](#Review)\n",
        "\n",
        "\n",
        "2.   [**Intro to Numpy Arrays**](#intro)\n",
        "  \n",
        "  a. [Exercise 1](#neg_ex): Negative Indexing \n",
        "\n",
        "  b. [Exercise 2](#range_ex): Ranges\n",
        "\n",
        "  c. [Exercise 3](#slice_ex): Indexing & Slicing\n",
        "\n",
        "\n",
        "3. [**Functions in Numpy**](#numpy_funcs)\n",
        "\n",
        "  a. [Exercises 4 and 5](#trig_ex): Numpy Trig Function\n",
        "\n",
        "\n",
        "4. [**User-Defined Functions**](#user_funcs)\n",
        "\n",
        "  a. [Exercise 6](#func1_ex): Define a Function\n",
        "  \n",
        "  b. [Exercises 7a and 7b](#ex_pathlen): Path Length Function\n",
        "\n",
        "\n",
        "5. [**Loading and Saving Numpy Arrays**](#load_save)\n",
        "\n",
        "  a. [Exercises 8-10](#ex_timeseries): Time-Series Data\n",
        "\n",
        "\n",
        "6. [**Loading Data \"Automatically\"**](#sec_load)\n",
        "\n",
        "  a. [Exercise 11](#exercise_load): Load Multiple Files\n",
        "\n",
        "\n",
        "7. [**Summary and Further Resources!**](#summary)"
      ]
    },
    {
      "cell_type": "markdown",
      "metadata": {
        "id": "wlxE9uISw0Yv"
      },
      "source": [
        "<a name='Review'></a>\n",
        "## Review from the first lecture\n",
        "\n",
        "\n",
        "The first lecture covered basic mathematical operations, variables, and lists. That lecture also introduced you to conditional statements, loops, and basic plotting using matplotlib. Before moving forward, here is a quick review."
      ]
    },
    {
      "cell_type": "code",
      "execution_count": null,
      "metadata": {
        "id": "gODpUW41w0Yw"
      },
      "outputs": [],
      "source": [
        "ourList = [0, 1, 2, 3, 4, 5, 6, 7, 8, 9]"
      ]
    },
    {
      "cell_type": "markdown",
      "metadata": {
        "id": "tyj8M4Tbw0Yw"
      },
      "source": [
        " **Loops** with **dummy variables** are useful to iterate over lists and perform operations on each element."
      ]
    },
    {
      "cell_type": "code",
      "execution_count": null,
      "metadata": {
        "id": "hTYBYH_Ww0Yw"
      },
      "outputs": [],
      "source": [
        "i = 0\n",
        "while i < len(ourList):\n",
        "    num = ourList[i] * 10\n",
        "    print(num)\n",
        "    i = i+1"
      ]
    },
    {
      "cell_type": "markdown",
      "metadata": {
        "id": "T12P3qJ7w0Yw"
      },
      "source": [
        "Conditional statements like **if** and **else** are used to implement more complex logic."
      ]
    },
    {
      "cell_type": "code",
      "execution_count": null,
      "metadata": {
        "id": "Odjh-Z-Sw0Yw"
      },
      "outputs": [],
      "source": [
        "i = 0\n",
        "while i < len(ourList):\n",
        "    num = ourList[i]\n",
        "    if num < 5:\n",
        "        print(num)\n",
        "    else:\n",
        "        print(\"I only print numbers less than 5!\")\n",
        "    i = i+1"
      ]
    },
    {
      "cell_type": "markdown",
      "metadata": {
        "id": "yCyvx4yWMGKT"
      },
      "source": [
        "The other kind of loop that you might encounter more often while working in Python is the `for` loop. A for-loop has the dummy variable \"built in,\" in a sense."
      ]
    },
    {
      "cell_type": "code",
      "execution_count": null,
      "metadata": {
        "id": "-YjZ_Rn7MZF-"
      },
      "outputs": [],
      "source": [
        "for num in ourList:\n",
        "    print(num)"
      ]
    },
    {
      "cell_type": "markdown",
      "metadata": {
        "id": "oKUpRTFXMv1N"
      },
      "source": [
        "The `range` function can be iterated over to produce a regular sequence of numbers."
      ]
    },
    {
      "cell_type": "markdown",
      "metadata": {
        "id": "gJkQuou8M5x9"
      },
      "source": [
        "`range` can be used as `range(end_)`, or as `range(start_, end_)`, or as `range(start_, end_, step_)`. Here's the [official documentation](https://docs.python.org/3/library/functions.html#func-range) as well as an [easier-to-read explainer webpage](https://www.w3schools.com/python/ref_func_range.asp)."
      ]
    },
    {
      "cell_type": "code",
      "execution_count": null,
      "metadata": {
        "id": "r0-kbZDTM1qL"
      },
      "outputs": [],
      "source": [
        "for num in range(10):\n",
        "    print(num)"
      ]
    },
    {
      "cell_type": "markdown",
      "metadata": {
        "id": "qQtT2SSTYmv6"
      },
      "source": [
        "Now try it yourself!"
      ]
    },
    {
      "cell_type": "code",
      "execution_count": null,
      "metadata": {
        "id": "uWR9e5CnNTPU"
      },
      "outputs": [],
      "source": [
        "#Your code goes here"
      ]
    },
    {
      "cell_type": "markdown",
      "metadata": {
        "id": "y7scwvhLw0Yw"
      },
      "source": [
        "Finally, recall that the **matplotlib** module can be used to plot data.\n",
        "\n",
        "First, import the module - this is always the first step whenever you're using a python module, but it's easy to forget! Then, we use a magic command that makes the figure appear within the cell."
      ]
    },
    {
      "cell_type": "code",
      "execution_count": null,
      "metadata": {
        "id": "nyQHClgow0Yw"
      },
      "outputs": [],
      "source": [
        "import matplotlib.pyplot as plt\n",
        "%matplotlib inline\n",
        "\n",
        "squareList = [0, 1, 4, 9, 16, 25, 36, 49, 64, 81]\n",
        "\n",
        "plt.plot(ourList,squareList)\n",
        "plt.show()"
      ]
    },
    {
      "cell_type": "markdown",
      "metadata": {
        "id": "Q82yTzDTw0Yx"
      },
      "source": [
        "# Lecture 2 - NumPy, Functions, and Data\n",
        "\n",
        "Today, we will learn about NumPy, learn how to define our own functions, and learn about handling data in Python.\n",
        "\n",
        "1. An introduction to **numpy** and **numpy arrays** and a discussion of their usefulness in solving real problems\n",
        "2. **Functions** and how to define new ones. \n",
        "3. Reading in **data** from text and numpy file formats, along with creating your own outputs to be used later\n",
        "    "
      ]
    },
    {
      "cell_type": "markdown",
      "metadata": {
        "id": "eWoP8Tfuw0Yy"
      },
      "source": [
        "<a name='intro'></a>\n",
        "## A. Introduction to Numpy Arrays - Initialization and Advanced Indexing"
      ]
    },
    {
      "cell_type": "markdown",
      "metadata": {
        "id": "3DR1oDfEw0Yy"
      },
      "source": [
        "The Python `list` is a fast and flexible built-in data type, but because of its flexbility, it is limited in the operations we can perform on it. A popular scientific computing package called `numpy`, short for \"numerical Python\", can help by way of its incredibly powerful object type: the `array`."
      ]
    },
    {
      "cell_type": "code",
      "execution_count": null,
      "metadata": {
        "id": "DKWCEZRKw0Yy"
      },
      "outputs": [],
      "source": [
        "c = list(range(10))"
      ]
    },
    {
      "cell_type": "markdown",
      "metadata": {
        "id": "6oyPgobScrOM"
      },
      "source": [
        "**POLL** -- Wait for the instructor to open polling before running the next block of code!"
      ]
    },
    {
      "cell_type": "code",
      "execution_count": null,
      "metadata": {
        "id": "ra9Iga_sw0Yz"
      },
      "outputs": [],
      "source": [
        "d = c**2\n",
        "print(d)"
      ]
    },
    {
      "cell_type": "markdown",
      "metadata": {
        "id": "KLVB6o30cEKW"
      },
      "source": [
        "First, import the numpy module. We typically abbreviate it as `np`.\n",
        "\n",
        "To convert the list to a numpy array, use `np.array()`.\n",
        "<a name='array'></a>"
      ]
    },
    {
      "cell_type": "code",
      "execution_count": null,
      "metadata": {
        "id": "IX82Khm_w0Yz"
      },
      "outputs": [],
      "source": [
        "# Import the numpy module\n",
        "import numpy as np"
      ]
    },
    {
      "cell_type": "code",
      "execution_count": null,
      "metadata": {
        "id": "u8dlnbV3w0Yz"
      },
      "outputs": [],
      "source": [
        "# convert the list c to an array\n",
        "c = np.array(c)"
      ]
    },
    {
      "cell_type": "markdown",
      "metadata": {
        "id": "iRq_yyTGc_aj"
      },
      "source": [
        "**POLL** -- Wait for the instructor to open polling before running the next block of code!"
      ]
    },
    {
      "cell_type": "code",
      "execution_count": null,
      "metadata": {
        "id": "UFqeZJ-Kw0Yz"
      },
      "outputs": [],
      "source": [
        "d = c**2\n",
        "print(d)"
      ]
    },
    {
      "cell_type": "markdown",
      "metadata": {
        "id": "J8hqYtbYw0Yz"
      },
      "source": [
        "<a name='ranges'></a>\n",
        "There are a few easier ways to create arrays besides creating a list and turning it into a numpy array. These include:\n",
        "* `np.arange(start_,stop_,step_)`\n",
        "* `np.linspace(first_,last_,num_)`\n",
        "\n",
        "(And the accompanying official documentation pages: [numpy.arange](https://numpy.org/doc/stable/reference/generated/numpy.arange.html), [numpy.linspace](https://numpy.org/doc/stable/reference/generated/numpy.linspace.html#numpy.linspace))\n",
        "\n",
        "These create arrays of numbers within a range with a fixed step-size between each consecutive number in the array. You can try these out below.\n",
        "\n",
        "`np.arange(start_,stop_,step_)` works just like the `range` function we introduced at the beginning of this lesson! But instead of the mysterious `range` object type, the numpy function returns a nice, neat numpy array."
      ]
    },
    {
      "cell_type": "code",
      "execution_count": null,
      "metadata": {
        "id": "xDhsW07Fw0Yz"
      },
      "outputs": [],
      "source": [
        "np.arange(0, 10, 1)"
      ]
    },
    {
      "cell_type": "code",
      "execution_count": null,
      "metadata": {
        "id": "_Ooc_Ia5w0Yz"
      },
      "outputs": [],
      "source": [
        "np.linspace(0, 10, 11)"
      ]
    },
    {
      "cell_type": "markdown",
      "metadata": {
        "id": "j62mXK4xw0Yz"
      },
      "source": [
        "<a name='empty'></a>\n",
        "Sometimes it is handy to create an array of all constant values, which can then be replaced later with data. This can be done in several ways by using the following commands:\n",
        "\n",
        "* [`np.zeros(size_)`](https://numpy.org/doc/stable/reference/generated/numpy.zeros.html) To fill the array with zeros\n",
        "* [`np.ones(size_)`](https://numpy.org/doc/stable/reference/generated/numpy.oness.html) To fill the array with ones\n",
        "* [`np.empty(size_)`](https://numpy.org/doc/stable/reference/generated/numpy.empty.html) To fill the array with arbitrary values\n",
        "\n",
        "These create arrays of the given size, filled with zeros, ones, or arbitrary values, depending on your specific needs. Great for initializing an array to store important data in later!"
      ]
    },
    {
      "cell_type": "code",
      "execution_count": null,
      "metadata": {
        "id": "xj08PatOw0Yz"
      },
      "outputs": [],
      "source": [
        "data = np.zeros(10)\n",
        "print(data)"
      ]
    },
    {
      "cell_type": "markdown",
      "metadata": {
        "collapsed": true,
        "id": "h9_sUv6iw0Yz"
      },
      "source": [
        "<a name='indexing'></a>\n",
        "We can also assign new values to elements of existing arrays, using the following \"square bracket\" notation. This is the same as the list indexing we taught you in Lecture #1!\n",
        "> `array_name[index_number] = value` \n",
        "\n",
        "This command will replace whatever value is currently in the position corresponding to ``index_number`` in the array called ``array_name`` with the value stored in ``value``.\n",
        "\n",
        "Recall that arrays are numbered starting from 0, such that\n",
        "\n",
        "* Index of first position = 0\n",
        "* Index of second position = 1\n",
        "* Index of third position = 2\n",
        "* etc.\n"
      ]
    },
    {
      "cell_type": "code",
      "execution_count": null,
      "metadata": {
        "id": "xmMeeKOzw0Yz"
      },
      "outputs": [],
      "source": [
        "data[0] = #\n",
        "print(data[1])"
      ]
    },
    {
      "cell_type": "markdown",
      "metadata": {
        "id": "SFN325_pw0Yz"
      },
      "source": [
        "**Negative indexing** is the same as normal indexing, but backward, in the sense that you start with the last element of the array and count forward.  More explicitly, for any array:\n",
        "\n",
        "* array[-1] = last element of array\n",
        "* array[-2] = second to last element of the array\n",
        "* array[-3] = third to last element of the array\n",
        "* etc"
      ]
    },
    {
      "cell_type": "markdown",
      "metadata": {
        "id": "ykJvqGYki-60"
      },
      "source": [
        "<a name='neg_ex'></a>\n",
        "### **Exercise 1**: Negative Indexing\n"
      ]
    },
    {
      "cell_type": "markdown",
      "metadata": {
        "id": "s83A7lKmkaDu"
      },
      "source": [
        "Create an array with 10 elements using `np.arange()` and print out the last and second-to-last elements using negative indexing!"
      ]
    },
    {
      "cell_type": "code",
      "execution_count": null,
      "metadata": {
        "id": "nHDQLDKpw0Yz"
      },
      "outputs": [],
      "source": [
        "#Your code goes here"
      ]
    },
    {
      "cell_type": "markdown",
      "metadata": {
        "id": "oT7kzVoTw0Yz"
      },
      "source": [
        "Sometimes it's useful to access more than one element of an array. Let's say that we have an array spanning the range [0,10] (including endpoints), with a step size of 0.1. If you recall, this can be done via the `np.linspace()` or `np.arange()` functions."
      ]
    },
    {
      "cell_type": "markdown",
      "metadata": {
        "id": "IhK6eu2bw0Yz"
      },
      "source": [
        "<a name='slicing'></a>\n",
        "In order to get a range of elements in an array, rather than simply a single one, use **array slicing**:\n",
        "\n",
        "* `array_name[start_index:end_index]` To grab all of the values from `start_index` to `end_index - 1`\n",
        "* `array_name[:end_index]` To grab all of the values up to `end_index-1`\n",
        "* `array_name[start_index:]` To grab all of the values from `start_index` and beyond\n",
        "\n",
        "In this notation, \":\" means you want everything between your start and end indices, including the value to the left but excluding the value to the right."
      ]
    },
    {
      "cell_type": "markdown",
      "metadata": {
        "id": "gOG4eEu4l17Z"
      },
      "source": [
        "<a name='range_ex'></a>\n",
        "### **Exercise 2**: `np.linspace` and `np.arange`\n"
      ]
    },
    {
      "cell_type": "markdown",
      "metadata": {
        "id": "V2Nr0LiHkmVz"
      },
      "source": [
        "Create an array named `x` of values from 0 to 10 (including 10) in steps of 0.1. *(Hint: use `np.arange` or `np.linspace`)*"
      ]
    },
    {
      "cell_type": "code",
      "execution_count": null,
      "metadata": {
        "id": "OPd_0Zffw0Yz",
        "scrolled": true
      },
      "outputs": [],
      "source": [
        "#Your code here"
      ]
    },
    {
      "cell_type": "markdown",
      "metadata": {
        "id": "2kHmtmQ_G8wh"
      },
      "source": [
        "Once you're done above, think about what these slices should print, but don't run them yet! **Wait for the instructor** to ask for answers."
      ]
    },
    {
      "cell_type": "code",
      "execution_count": null,
      "metadata": {
        "id": "46plKnZtw0Yz"
      },
      "outputs": [],
      "source": [
        "x[1:4]\n",
        "\n",
        "x[90:]\n",
        "\n",
        "x[:25]"
      ]
    },
    {
      "cell_type": "markdown",
      "metadata": {
        "id": "2YRR7FmdnZCk"
      },
      "source": [
        "<a name='slice_ex'></a>\n",
        "## **Exercise 3**: Indexing and slicing \n"
      ]
    },
    {
      "cell_type": "markdown",
      "metadata": {
        "id": "Gkn9iwvQw0Yz"
      },
      "source": [
        "\n",
        "So, let's say that you would want everything up to and including the tenth element of the array $x$. How would you do that?\n",
        "\n",
        "(Remember, the tenth element has an index of 9)"
      ]
    },
    {
      "cell_type": "code",
      "execution_count": null,
      "metadata": {
        "id": "OI0RRhV6w0Yz"
      },
      "outputs": [],
      "source": [
        "#Your code goes here"
      ]
    },
    {
      "cell_type": "markdown",
      "metadata": {
        "id": "Tm6NGKp5w0Y0"
      },
      "source": [
        "Now try to select just the first half of the array. "
      ]
    },
    {
      "cell_type": "code",
      "execution_count": null,
      "metadata": {
        "id": "GB0GmxO-w0Y0"
      },
      "outputs": [],
      "source": [
        "#Your code goes here"
      ]
    },
    {
      "cell_type": "markdown",
      "metadata": {
        "id": "cN6BSHqpw0Y0"
      },
      "source": [
        "Then, pick out middle sixty elements of the array."
      ]
    },
    {
      "cell_type": "code",
      "execution_count": null,
      "metadata": {
        "id": "bir2j1ztw0Y0"
      },
      "outputs": [],
      "source": [
        "#Your code goes here"
      ]
    },
    {
      "cell_type": "markdown",
      "metadata": {
        "id": "Nd8BK-OwptIp"
      },
      "source": [
        "Let's try a few more. In the next block of code, perform the following actions on different lines:\n",
        "\n",
        "* Access all elements of your `x` up to, but not including the 17th element\n",
        "* Access the last 20 elements of `x`\n",
        "* Create a new array named `y` that contains the 12th through 38th elements of `x`, including the 38th element\n"
      ]
    },
    {
      "cell_type": "code",
      "execution_count": null,
      "metadata": {
        "id": "p1eH9J4np94W"
      },
      "outputs": [],
      "source": [
        "#Your code goes here"
      ]
    },
    {
      "cell_type": "markdown",
      "metadata": {
        "id": "zuFluWa6w0Y0"
      },
      "source": [
        "Finally, how would you get all of the elements in the array using colon notation?"
      ]
    },
    {
      "cell_type": "code",
      "execution_count": null,
      "metadata": {
        "id": "S-aNw-Miw0Y0"
      },
      "outputs": [],
      "source": [
        "#Your code goes here"
      ]
    },
    {
      "cell_type": "markdown",
      "metadata": {
        "id": "h5iseseK6c_h"
      },
      "source": [
        "<a name='sec_funcs'></a>\n",
        "## B. Functions\n"
      ]
    },
    {
      "cell_type": "markdown",
      "metadata": {
        "id": "Czoqiv9zlXo8"
      },
      "source": [
        "<a name='numpy_funcs'></a>\n",
        "### More Numpy functions\n",
        "\n",
        "The previous section introduces a built-in Python function, `range`, as well as a couple `numpy` module functions, `np.arange` and `np.linspace`, but there are many, many more functions that you'll encounter.\n",
        "Functions are the most fundamental way to process data in Python; they take some inputs, which they may alter, and they (usually) return a result.\n",
        "\n",
        "\\begin{gather}\n",
        "function(input) \\rightarrow output\n",
        "\\end{gather}"
      ]
    },
    {
      "cell_type": "code",
      "execution_count": null,
      "metadata": {
        "id": "GXt3Ir2jw0Y2"
      },
      "outputs": [],
      "source": [
        "import numpy as np\n",
        "\n",
        "print(np.sqrt(25))"
      ]
    },
    {
      "cell_type": "markdown",
      "metadata": {
        "id": "WEb9yL1O9J4D"
      },
      "source": [
        "You can either try to guess what `numpy` calls this function, or you can Google it.\n",
        "Both of these are valid approaches that we use all the time.\n",
        "\n",
        "Numpy defines some useful variables like `pi` and `e`."
      ]
    },
    {
      "cell_type": "markdown",
      "metadata": {
        "id": "KXecogv19m0z"
      },
      "source": [
        "<a name='summary'></a>\n",
        "# **Summary/References**"
      ]
    },
    {
      "cell_type": "markdown",
      "metadata": {
        "id": "S7LRuY3VCmuy"
      },
      "source": [
        "## Arrays\n",
        "* Create [arrays](#array) from lists using [`np.array(listname)`](https://numpy.org/doc/stable/reference/generated/numpy.ndarray.html)\n",
        "* Create [evenly spaced arrays](#ranges) of numbers using:\n",
        "  * [`np.arange(start, stop, stepsize)`](https://numpy.org/doc/stable/reference/generated/numpy.arange.html)\n",
        "  * [`np.linspace(start, stop, num_points)`](https://numpy.org/doc/stable/reference/generated/numpy.linspace.html)\n",
        "* Create [\"empty\" arrays](#empty) using:\n",
        "  * [`np.zeros(size)`](https://numpy.org/doc/stable/reference/generated/numpy.zeros.html) for an array of all 0\n",
        "  * [`np.ones(size)`](https://numpy.org/doc/stable/reference/generated/numpy.ones.html) for an array of all 1\n",
        "  * [`np.empty(size)`](https://numpy.org/doc/stable/reference/generated/numpy.empty.html) for a quickly generated array of nonspecific values\n",
        "* [Index](#indexing) and [slice](#slicing) your arrays using brackets, colon notation, and [conditional statements](#conditional), e.g.:\n",
        "  * `myarray[0]` for the first (zeroth) element\n",
        "  * `myarray[-1]` for the last element\n",
        "  * `myarray[:]` for the whole array\n",
        "  * `myarray[5:]` for everything after and including the 5th element (element at index 5, thus the 6th value in the array)\n",
        "  * `myarray[:20]` for everything up to but not including the 20th element\n",
        "  * `myarray[myarray > 10]` for all values greater than 10 in your array\n",
        "  * `mymatrix[:, 0]` for all values in the first column of a [matrix](#matrix) (2D array)\n",
        "  * See [here](https://www.google.com/url?q=https://stackoverflow.com/a/4729334&sa=D&ust=1608320322998000&usg=AFQjCNGmI429xTVOP87NgDrSRyL3xRkVgg) for another series of explanations of slicing and indexing lists/arrays in Python!\n",
        "* Determine the [size and shape](#shape) of your array using [`myarray.shape`](https://numpy.org/doc/stable/reference/generated/numpy.ndarray.shape.html)\n"
      ]
    }
  ],
  "metadata": {
    "anaconda-cloud": {},
    "colab": {
      "collapsed_sections": [],
      "provenance": [],
      "toc_visible": true,
      "include_colab_link": true
    },
    "kernelspec": {
      "display_name": "Python 3",
      "language": "python",
      "name": "python3"
    },
    "language_info": {
      "codemirror_mode": {
        "name": "ipython",
        "version": 3
      },
      "file_extension": ".py",
      "mimetype": "text/x-python",
      "name": "python",
      "nbconvert_exporter": "python",
      "pygments_lexer": "ipython3",
      "version": "3.8.5"
    }
  },
  "nbformat": 4,
  "nbformat_minor": 0
}